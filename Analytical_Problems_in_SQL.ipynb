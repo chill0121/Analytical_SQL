{
 "cells": [
  {
   "cell_type": "markdown",
   "metadata": {},
   "source": [
    "# Analytical Problems in SQL\n",
    "\n",
    "An exercise of PostgreSQL using the ClassicModels database.\n",
    "\n",
    "Pose business problems relating to the ClassicModels database and solve them using PostgreSQL queries.\n",
    "\n",
    "---\n",
    "\n",
    "## Table of Contents <a name=\"toc\"></a>\n",
    "- [Database Information](#data)\n",
    "- [Problem 1: Grace Period is Over](#prob1)\n",
    "- [Problem 2: Overly-Friendly Salespeople](#prob2)\n",
    "- [Problem 3: Shipping Department Woes](#prob3)\n",
    "\n",
    "---"
   ]
  },
  {
   "cell_type": "markdown",
   "metadata": {},
   "source": [
    "## Database Info <a name=\"data\"></a>\n",
    "\n",
    "Database Source: https://www.mysqltutorial.org/getting-started-with-mysql/mysql-sample-database/\n",
    "\n",
    "ClassicModels Entity Relationship Diagram (ERD):\n",
    "\n",
    "<img src=\"https://github.com/chill0121/Analytical_SQL/blob/main/Images/ClassicModels_ERD.png?raw=true\" alt=\"1\" width=\"700\"/>\n",
    "\n",
    "---"
   ]
  },
  {
   "cell_type": "markdown",
   "metadata": {},
   "source": [
    "## Problem 1: <a name=\"prob1\"></a>\n",
    "\n",
    "The end of the fiscal year is arriving soon, accounting noticed a large amount of unpaid invoices that needs to be closed out before the year-end deadline. \n",
    "\n",
    "List the top 5 customers with their city and country concatenated together that have greatest remaining outstanding balance, meaning (sum total of all orders) - (total payments)."
   ]
  },
  {
   "cell_type": "markdown",
   "metadata": {},
   "source": [
    "### Query:"
   ]
  },
  {
   "cell_type": "code",
   "execution_count": null,
   "metadata": {
    "vscode": {
     "languageId": "sql"
    }
   },
   "outputs": [],
   "source": [
    "/* SELECT SubQuery:\n",
    " Outer query finds total payments grouped by customer.\n",
    " SELECT Inner query finds total order amount grouped by customer,\n",
    " output to a column. */\n",
    "SELECT C.customernumber, customername, \n",
    "    city || ', ' || country AS city_country,\n",
    "    -- Subquery in SELECT\n",
    "    COALESCE( -- Coalesce to turn NULLs into 0s.\n",
    "        (SELECT sum(priceeach * quantityordered) - sum(amount)\n",
    "        FROM orders O,\n",
    "            orderdetails D\n",
    "        WHERE C.customernumber = O.customernumber\n",
    "            AND O.ordernumber = D.ordernumber\n",
    "        GROUP BY customernumber\n",
    "    ), 0) AS balance_due\n",
    "FROM customers C\n",
    "    LEFT JOIN payments P\n",
    "        ON C.customernumber = P.customernumber\n",
    "GROUP BY C.customernumber\n",
    "ORDER BY 4 DESC LIMIT 5;"
   ]
  },
  {
   "cell_type": "markdown",
   "metadata": {},
   "source": [
    "### Output Answer Set:\n",
    "\n",
    "<img src=\"https://github.com/chill0121/Analytical_SQL/blob/main/Images/Final_Prob_1_Output.png?raw=true\" alt=\"1\" width=\"700\"/>\n",
    "\n",
    "*Note: Full answer set shown here with LIMIT 5.*\n",
    "\n",
    "---"
   ]
  },
  {
   "cell_type": "markdown",
   "metadata": {},
   "source": [
    "## Problem 2: <a name=\"prob2\"></a>\n",
    "\n",
    "We've recently noticed a reduction in our profit margins when comparing our product's MSRP to our Total Sales numbers. We suspect our salespeople are giving out hefty discounts. \n",
    "\n",
    "Utilizing 5 tables, Employees > Customers > Order > OrderDetails > Products, generate a table of each employee's total sales, the total amount of discounts given ((QuantityOrdered*MSRP) - TotalSales), as well as the average value of their discount. Order the table by average discount in descending order, showing the employees who are giving the largest discounts at the top."
   ]
  },
  {
   "cell_type": "markdown",
   "metadata": {},
   "source": [
    "### Query:"
   ]
  },
  {
   "cell_type": "code",
   "execution_count": null,
   "metadata": {
    "vscode": {
     "languageId": "sql"
    }
   },
   "outputs": [],
   "source": [
    "/* FROM subquery:\n",
    "FROM inner query used to gather/calculate all aggregating info.*/\n",
    "SELECT employee_name,\n",
    "    to_char(sum(total_sold), 'FM9,999,999.99') as total_sales, -- sum all sales.\n",
    "    to_char(sum(discount), 'FM9,999,999.99') AS total_discounts, -- all discounts given.\n",
    "    round(avg(discount), 2) AS average_discount\n",
    "FROM ( -- Start a long-chained inner query.\n",
    "    SELECT -- All aggregation calculations here.\n",
    "        (E.firstname || ' ' || E.lastname) AS employee_name,\n",
    "        -- Calc price products sold at.\n",
    "        COALESCE((D.priceeach * D.quantityordered), 0) AS total_sold,\n",
    "        -- Calc MSRP - price sold = discount\n",
    "        COALESCE(((P.msrp * D.quantityordered) - (D.priceeach * D.quantityordered)), 0) AS discount\n",
    "    FROM employees E\n",
    "        LEFT JOIN customers C -- Left join here will show those with 0 sales.\n",
    "            ON E.employeenumber = C.salesrepemployeenumber\n",
    "        LEFT JOIN orders O\n",
    "            ON O.customernumber = C.customernumber\n",
    "        LEFT JOIN orderdetails D\n",
    "            ON O.ordernumber = D.ordernumber\n",
    "        LEFT JOIN products P\n",
    "            ON D.productcode = P.productcode\n",
    ") AS TB -- Need an alias for the outer query\n",
    "GROUP BY employee_name\n",
    "ORDER BY avg(discount) DESC;"
   ]
  },
  {
   "cell_type": "markdown",
   "metadata": {},
   "source": [
    "### Output Answer Set:\n",
    "\n",
    "<img src=\"https://github.com/chill0121/Analytical_SQL/blob/main/Images/Final_Prob_2_Output.png?raw=true\" alt=\"2\" width=\"700\"/>\n",
    "\n",
    "*Note: Screenshot is not showing all rows in answer set table. Total 23 rows.*\n",
    "\n",
    "---"
   ]
  },
  {
   "cell_type": "markdown",
   "metadata": {},
   "source": [
    "## Problem 3: <a name=\"prob3\"></a>\n",
    "\n",
    "We're starting a pilot program to offer discounts to customers with previous shipping issues. These discounts will be offered to customers who have orders that have taken longer than 5 days from their order date to ship. \n",
    "\n",
    "We need to generate a table of customer's contact information, order and shipping date information, that meet the greater-than-5-days-to-ship criteria. Furthermore, to qualify, orders placed on or near the weekend need to be adjusted since it has been communicated that orders will not ship over the weekend. Orders placed on Thursday, Friday, Saturday, Sunday should have their dates adjusted the appropriate number of days to the following Monday. Also, the order comments need to be referenced to make sure we aren't discounting shipments that were delayed because a customer had exceeded their credit limit.\n",
    "\n",
    "(e.g. on an order placed on Friday, 3 days will be added to the order date and the 5 day discount timer will start on Monday as long as the customer's credit is in good standing.) "
   ]
  },
  {
   "cell_type": "markdown",
   "metadata": {},
   "source": [
    "### Query:"
   ]
  },
  {
   "cell_type": "code",
   "execution_count": null,
   "metadata": {
    "vscode": {
     "languageId": "sql"
    }
   },
   "outputs": [],
   "source": [
    "SELECT customer_name, \n",
    "    phone, \n",
    "    mod_orderdate, \n",
    "    shippeddate, \n",
    "    -- Display how many days it took to ship order.\n",
    "    (shippeddate - mod_orderdate) AS days_to_ship\n",
    "FROM (\n",
    "    SELECT\n",
    "        O.shippeddate,\n",
    "        C.phone,\n",
    "        O.comments,\n",
    "        (C.contactfirstname || ' ' || C.contactlastname) AS customer_name,\n",
    "        /*Check order day of the week, orders placed near or on the weekend will be padded\n",
    "        since orders don't usually ship on the weekend.*/\n",
    "        CASE\n",
    "            WHEN to_char(orderdate, 'DY') IN ('THU') THEN orderdate + INT '4'\n",
    "            WHEN to_char(orderdate, 'DY') IN ('FRI') THEN orderdate + INT '3'\n",
    "            WHEN to_char(orderdate, 'DY') IN ('SAT') THEN orderdate + INT '2'\n",
    "            WHEN to_char(orderdate, 'DY') IN ('SUN') THEN orderdate + INT '1'\n",
    "        ELSE orderdate\n",
    "    END AS mod_orderdate -- New column for adjusted orderdate\n",
    "    FROM customers C\n",
    "        LEFT JOIN orders O\n",
    "            ON C.customernumber = O.customernumber\n",
    ") AS TB\n",
    "WHERE (shippeddate - mod_orderdate) > 5 -- check ship date against order date.\n",
    "    -- Check comments to make sure order wasn't delayed for exceeded credit limit.\n",
    "    AND (comments NOT like '%credit%' OR comments IS NULL)\n",
    "ORDER BY days_to_ship DESC;"
   ]
  },
  {
   "cell_type": "markdown",
   "metadata": {},
   "source": [
    "### Output Answer Set:\n",
    "\n",
    "<img src=\"https://github.com/chill0121/Analytical_SQL/blob/main/Images/Final_Prob_3_Output.png?raw=true\" alt=\"3\" width=\"700\"/>\n",
    "\n",
    "*Note: Screenshot is not showing all rows in answer set table. Total 26 rows.*\n",
    "\n",
    "###### [Back to Table of Contents](#toc)"
   ]
  },
  {
   "cell_type": "markdown",
   "metadata": {},
   "source": [
    "---\n",
    "\n",
    "---"
   ]
  }
 ],
 "metadata": {
  "kernelspec": {
   "display_name": "Python 3",
   "language": "python",
   "name": "python3"
  },
  "language_info": {
   "codemirror_mode": {
    "name": "ipython",
    "version": 3
   },
   "file_extension": ".py",
   "mimetype": "text/x-python",
   "name": "python",
   "nbconvert_exporter": "python",
   "pygments_lexer": "ipython3",
   "version": "3.11.7"
  }
 },
 "nbformat": 4,
 "nbformat_minor": 2
}
